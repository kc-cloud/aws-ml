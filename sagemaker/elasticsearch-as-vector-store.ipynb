{
 "cells": [
  {
   "cell_type": "code",
   "execution_count": 14,
   "id": "6b7ffaa8-521b-4029-9d7e-fd8d091201c1",
   "metadata": {},
   "outputs": [],
   "source": [
    "!pip install elasticsearch -q\n",
    "!pip install langchain_community -q\n",
    "!pip install langchain_elasticsearch -q\n",
    "!pip install -U sentence-transformers -q"
   ]
  },
  {
   "cell_type": "code",
   "execution_count": 8,
   "id": "5cfe0799-0889-4843-a78d-a6cff6f03f18",
   "metadata": {},
   "outputs": [],
   "source": [
    "### REF: https://python.langchain.com/v0.1/docs/integrations/vectorstores/elasticsearch/\n",
    "import elasticsearch\n",
    "## from langchain_community.vectorstores import ElasticVectorSearch,ElasticsearchStore\n",
    "from langchain_community.embeddings import HuggingFaceEmbeddings\n",
    "from langchain_elasticsearch import ElasticsearchStore\n",
    "import urllib3\n",
    "urllib3.disable_warnings(urllib3.exceptions.InsecureRequestWarning)"
   ]
  },
  {
   "cell_type": "code",
   "execution_count": 10,
   "id": "47c00c2b-2ae8-4e26-b898-e577be223a51",
   "metadata": {},
   "outputs": [],
   "source": [
    "es_client= elasticsearch.Elasticsearch(\n",
    "    hosts=[\"https://spectra-poweredge:9200\"],\n",
    "    basic_auth=('elastic', 'elastic'),\n",
    "    max_retries=10,\n",
    "    verify_certs=False\n",
    ")"
   ]
  },
  {
   "cell_type": "code",
   "execution_count": 15,
   "id": "05cee9f0-3783-4a42-bf4c-48ea80346f5d",
   "metadata": {},
   "outputs": [
    {
     "name": "stderr",
     "output_type": "stream",
     "text": [
      "/usr/local/lib/python3.10/site-packages/sentence_transformers/cross_encoder/CrossEncoder.py:11: TqdmExperimentalWarning: Using `tqdm.autonotebook.tqdm` in notebook mode. Use `tqdm.tqdm` instead to force console mode (e.g. in jupyter console)\n",
      "  from tqdm.autonotebook import tqdm, trange\n",
      "/usr/local/lib/python3.10/site-packages/threadpoolctl.py:1214: RuntimeWarning: \n",
      "Found Intel OpenMP ('libiomp') and LLVM OpenMP ('libomp') loaded at\n",
      "the same time. Both libraries are known to be incompatible and this\n",
      "can cause random crashes or deadlocks on Linux when loaded in the\n",
      "same Python program.\n",
      "Using threadpoolctl may cause crashes or deadlocks. For more\n",
      "information and possible workarounds, please see\n",
      "    https://github.com/joblib/threadpoolctl/blob/master/multiple_openmp.md\n",
      "\n",
      "  warnings.warn(msg, RuntimeWarning)\n"
     ]
    }
   ],
   "source": [
    "model_name = \"sentence-transformers/all-mpnet-base-v2\"\n",
    "index_name = \"vulnerabilities-data\"\n",
    "hf = HuggingFaceEmbeddings(model_name=model_name)\n",
    "db = ElasticsearchStore(embedding=hf, es_connection=es_client, index_name=index_name)"
   ]
  },
  {
   "cell_type": "code",
   "execution_count": 17,
   "id": "5656749c-8d89-467f-9670-eb1e84140926",
   "metadata": {},
   "outputs": [
    {
     "name": "stderr",
     "output_type": "stream",
     "text": [
      "Created a chunk of size 1220, which is longer than the specified 500\n",
      "Created a chunk of size 1215, which is longer than the specified 500\n",
      "Created a chunk of size 1211, which is longer than the specified 500\n",
      "Created a chunk of size 1231, which is longer than the specified 500\n",
      "Created a chunk of size 1219, which is longer than the specified 500\n",
      "Created a chunk of size 1233, which is longer than the specified 500\n",
      "Created a chunk of size 1037, which is longer than the specified 500\n",
      "Created a chunk of size 562, which is longer than the specified 500\n",
      "Created a chunk of size 502, which is longer than the specified 500\n",
      "Created a chunk of size 715, which is longer than the specified 500\n",
      "Created a chunk of size 715, which is longer than the specified 500\n",
      "Created a chunk of size 715, which is longer than the specified 500\n",
      "Created a chunk of size 715, which is longer than the specified 500\n",
      "Created a chunk of size 650, which is longer than the specified 500\n",
      "Created a chunk of size 640, which is longer than the specified 500\n",
      "Created a chunk of size 1130, which is longer than the specified 500\n",
      "Created a chunk of size 537, which is longer than the specified 500\n",
      "Created a chunk of size 613, which is longer than the specified 500\n",
      "Created a chunk of size 662, which is longer than the specified 500\n",
      "Created a chunk of size 577, which is longer than the specified 500\n",
      "Created a chunk of size 969, which is longer than the specified 500\n",
      "Created a chunk of size 562, which is longer than the specified 500\n",
      "Created a chunk of size 538, which is longer than the specified 500\n",
      "Created a chunk of size 827, which is longer than the specified 500\n",
      "Created a chunk of size 569, which is longer than the specified 500\n",
      "Created a chunk of size 665, which is longer than the specified 500\n",
      "Created a chunk of size 538, which is longer than the specified 500\n",
      "Created a chunk of size 652, which is longer than the specified 500\n",
      "Created a chunk of size 535, which is longer than the specified 500\n",
      "Created a chunk of size 538, which is longer than the specified 500\n",
      "Created a chunk of size 754, which is longer than the specified 500\n",
      "Created a chunk of size 620, which is longer than the specified 500\n",
      "Created a chunk of size 884, which is longer than the specified 500\n",
      "Created a chunk of size 505, which is longer than the specified 500\n",
      "Created a chunk of size 517, which is longer than the specified 500\n",
      "Created a chunk of size 675, which is longer than the specified 500\n",
      "Created a chunk of size 1464, which is longer than the specified 500\n",
      "Created a chunk of size 501, which is longer than the specified 500\n",
      "Created a chunk of size 510, which is longer than the specified 500\n",
      "Created a chunk of size 643, which is longer than the specified 500\n",
      "Created a chunk of size 545, which is longer than the specified 500\n",
      "Created a chunk of size 501, which is longer than the specified 500\n",
      "Created a chunk of size 586, which is longer than the specified 500\n",
      "Created a chunk of size 709, which is longer than the specified 500\n",
      "Created a chunk of size 602, which is longer than the specified 500\n",
      "Created a chunk of size 547, which is longer than the specified 500\n",
      "Created a chunk of size 634, which is longer than the specified 500\n"
     ]
    }
   ],
   "source": [
    "from langchain_community.document_loaders import TextLoader\n",
    "from langchain_community.document_loaders.csv_loader import CSVLoader\n",
    "from langchain_text_splitters import CharacterTextSplitter\n",
    "\n",
    "##loader = TextLoader(\"./state_of_the_union.txt\")\n",
    "##documents = loader.load()\n",
    "loader = CSVLoader(file_path=\"./cve.csv\")\n",
    "documents = loader.load()\n",
    "\n",
    "text_splitter = CharacterTextSplitter(chunk_size=500, chunk_overlap=0)\n",
    "docs = text_splitter.split_documents(documents)"
   ]
  },
  {
   "cell_type": "code",
   "execution_count": null,
   "id": "64cb9787-b8b2-4862-9e44-7dd0183153de",
   "metadata": {},
   "outputs": [],
   "source": [
    "db = ElasticsearchStore.from_documents(\n",
    "    docs,\n",
    "    hf,\n",
    "    es_connection=es_client,\n",
    "    index_name=index_name,\n",
    ")\n",
    "\n",
    "db.client.indices.refresh(index=index_name)"
   ]
  },
  {
   "cell_type": "code",
   "execution_count": 24,
   "id": "0d184e2b-844d-4970-9a97-93d33ca125bb",
   "metadata": {},
   "outputs": [
    {
     "data": {
      "text/plain": [
       "ObjectApiResponse({'llm-basic': {'aliases': {}}})"
      ]
     },
     "execution_count": 24,
     "metadata": {},
     "output_type": "execute_result"
    }
   ],
   "source": [
    "es_client.indices.get_alias(index=index_name+\"*\")"
   ]
  },
  {
   "cell_type": "code",
   "execution_count": 28,
   "id": "07113167-33c0-4caa-bb84-9b791de0f2e2",
   "metadata": {},
   "outputs": [
    {
     "data": {
      "text/plain": [
       "'One of the most serious constitutional responsibilities a President has is nominating someone to serve on the United States Supreme Court. \\n\\nAnd I did that 4 days ago, when I nominated Circuit Court of Appeals Judge Ketanji Brown Jackson. One of our nation’s top legal minds, who will continue Justice Breyer’s legacy of excellence.'"
      ]
     },
     "execution_count": 28,
     "metadata": {},
     "output_type": "execute_result"
    }
   ],
   "source": [
    "query = \"What did the president say about Ketanji Brown Jackson\"\n",
    "results = db.similarity_search(query)\n",
    "results[0].page_content"
   ]
  },
  {
   "cell_type": "code",
   "execution_count": null,
   "id": "db34f310-a76b-4b11-9f96-ec6c338cb85c",
   "metadata": {},
   "outputs": [],
   "source": []
  }
 ],
 "metadata": {
  "kernelspec": {
   "display_name": "Python 3 (ipykernel)",
   "language": "python",
   "name": "python3"
  },
  "language_info": {
   "codemirror_mode": {
    "name": "ipython",
    "version": 3
   },
   "file_extension": ".py",
   "mimetype": "text/x-python",
   "name": "python",
   "nbconvert_exporter": "python",
   "pygments_lexer": "ipython3",
   "version": "3.10.13"
  }
 },
 "nbformat": 4,
 "nbformat_minor": 5
}
