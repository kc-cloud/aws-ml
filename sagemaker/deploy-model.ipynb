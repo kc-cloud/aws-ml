{
 "cells": [
  {
   "cell_type": "code",
   "execution_count": 10,
   "id": "f90e62bf-3dc0-4b4f-b347-11edd2f6a7e4",
   "metadata": {},
   "outputs": [],
   "source": [
    "import boto3\n",
    "import botocore\n",
    "import sagemaker\n",
    "from sagemaker import image_uris\n",
    "import sys\n",
    "import time\n",
    "from sagemaker.huggingface import HuggingFaceModel, get_huggingface_llm_image_uri\n",
    "from sagemaker.serializers import JSONSerializer\n",
    "from sagemaker.deserializers import JSONDeserializer\n",
    "from botocore.exceptions import NoCredentialsError\n",
    "from sagemaker.jumpstart.model import JumpStartModel\n",
    "\n",
    "session = sagemaker.Session()\n",
    "runtime = boto3.client(\"sagemaker-runtime\")\n",
    "client = boto3.client(\"sagemaker\")\n",
    "region = session.boto_region_name\n",
    "prefix='spectra-test'\n",
    "role = \"AmazonSageMaker-ExecutionRole-20240618T160945\"\n",
    "account_id = boto3.client('sts').get_caller_identity().get('Account')\n",
    "endpoint_name = f\"{prefix}-endpoint\""
   ]
  },
  {
   "cell_type": "code",
   "execution_count": 6,
   "id": "a1361ef0-74d5-4d64-b41c-8c40c8dbf951",
   "metadata": {},
   "outputs": [
    {
     "data": {
      "text/plain": [
       "'sagemaker-us-east-1-452706865406'"
      ]
     },
     "execution_count": 6,
     "metadata": {},
     "output_type": "execute_result"
    }
   ],
   "source": [
    "session.default_bucket() "
   ]
  },
  {
   "cell_type": "code",
   "execution_count": 9,
   "id": "57a79d44-8227-41cf-9c3e-48e0ad2d5ae9",
   "metadata": {},
   "outputs": [
    {
     "name": "stdout",
     "output_type": "stream",
     "text": [
      "Demo inference component name: spectra-test-inference-component:: endpoint_name=spectra-test-endpoint\n"
     ]
    }
   ],
   "source": [
    "inference_component_name = f\"{prefix}-inference-component\"\n",
    "print(f\"Demo inference component name: {inference_component_name}:: endpoint_name={endpoint_name}\")\n",
    "variant_name = \"AllTraffic\""
   ]
  },
  {
   "cell_type": "code",
   "execution_count": 11,
   "id": "5b111d8e-5707-4170-8ac4-d309f6279c47",
   "metadata": {},
   "outputs": [
    {
     "name": "stdout",
     "output_type": "stream",
     "text": [
      "llm image uri: 763104351884.dkr.ecr.us-east-1.amazonaws.com/huggingface-pytorch-tgi-inference:2.0.1-tgi0.9.3-gpu-py39-cu118-ubuntu20.04\n"
     ]
    }
   ],
   "source": [
    "# retrieve the llm image uri\n",
    "hf_inference_dlc = get_huggingface_llm_image_uri(\"huggingface\", version=\"0.9.3\")\n",
    "\n",
    "# print ecr image uri\n",
    "print(f\"llm image uri: {hf_inference_dlc}\")"
   ]
  },
  {
   "cell_type": "code",
   "execution_count": 12,
   "id": "69ffe531-72b6-4b6e-b3cb-a44e85b43491",
   "metadata": {},
   "outputs": [
    {
     "data": {
      "text/plain": [
       "{'ModelArn': 'arn:aws:sagemaker:us-east-1:452706865406:model/sm-model-flan-t5-xxl',\n",
       " 'ResponseMetadata': {'RequestId': '0cf7cc7e-5455-49b5-a9b0-bb8ed31eeadc',\n",
       "  'HTTPStatusCode': 200,\n",
       "  'HTTPHeaders': {'x-amzn-requestid': '0cf7cc7e-5455-49b5-a9b0-bb8ed31eeadc',\n",
       "   'content-type': 'application/x-amz-json-1.1',\n",
       "   'content-length': '82',\n",
       "   'date': 'Mon, 01 Jul 2024 10:19:39 GMT'},\n",
       "  'RetryAttempts': 0}}"
      ]
     },
     "execution_count": 12,
     "metadata": {},
     "output_type": "execute_result"
    }
   ],
   "source": [
    "deployment_name = \"sm\"\n",
    "\n",
    "flant5xxlmodel = {\n",
    "    \"Image\": hf_inference_dlc,\n",
    "    \"Environment\": {\"HF_MODEL_ID\": \"google/flan-t5-xxl\", \"HF_TASK\": \"text-generation\"},\n",
    "}\n",
    "\n",
    "# create SageMaker Model\n",
    "client.create_model(\n",
    "    ModelName=f\"{deployment_name}-model-flan-t5-xxl\",\n",
    "    ExecutionRoleArn=f\"arn:aws:iam::{account_id}:role/service-role/{role}\",\n",
    "    Containers=[flant5xxlmodel],\n",
    ")"
   ]
  },
  {
   "cell_type": "code",
   "execution_count": 13,
   "id": "4ac436db-c1ef-4b68-9ea9-ee3efd3ecebe",
   "metadata": {},
   "outputs": [
    {
     "data": {
      "text/plain": [
       "{'InferenceComponentArn': 'arn:aws:sagemaker:us-east-1:452706865406:inference-component/spectra-test-IC-flan-xxl',\n",
       " 'ResponseMetadata': {'RequestId': '45efa9af-4754-4a9d-9187-1dbc56fc14f2',\n",
       "  'HTTPStatusCode': 200,\n",
       "  'HTTPHeaders': {'x-amzn-requestid': '45efa9af-4754-4a9d-9187-1dbc56fc14f2',\n",
       "   'content-type': 'application/x-amz-json-1.1',\n",
       "   'content-length': '113',\n",
       "   'date': 'Mon, 01 Jul 2024 10:22:14 GMT'},\n",
       "  'RetryAttempts': 0}}"
      ]
     },
     "execution_count": 13,
     "metadata": {},
     "output_type": "execute_result"
    }
   ],
   "source": [
    "inference_component_name_flant5 = f\"{prefix}-IC-flan-xxl\"\n",
    "variant_name = \"AllTraffic\"\n",
    "\n",
    "client.create_inference_component(\n",
    "    InferenceComponentName=inference_component_name_flant5,\n",
    "    EndpointName=endpoint_name,\n",
    "    VariantName=variant_name,\n",
    "    Specification={\n",
    "        \"ModelName\": f\"{deployment_name}-model-flan-t5-xxl\",\n",
    "        \"ComputeResourceRequirements\": {\n",
    "            \"NumberOfAcceleratorDevicesRequired\": 1,\n",
    "            \"NumberOfCpuCoresRequired\": 1,\n",
    "            \"MinMemoryRequiredInMb\": 1024,\n",
    "        },\n",
    "    },\n",
    "    RuntimeConfig={\"CopyCount\": 1},\n",
    ")"
   ]
  },
  {
   "cell_type": "code",
   "execution_count": 15,
   "id": "c98fa902-cca9-4917-aaf9-77e24d346491",
   "metadata": {},
   "outputs": [
    {
     "name": "stdout",
     "output_type": "stream",
     "text": [
      "Creating\n",
      "Creating\n",
      "Creating\n",
      "Creating\n",
      "Creating\n",
      "Creating\n",
      "Creating\n",
      "Creating\n",
      "Creating\n",
      "Creating\n",
      "Creating\n",
      "Creating\n",
      "Creating\n",
      "Creating\n",
      "Creating\n",
      "Creating\n",
      "Creating\n",
      "Creating\n",
      "Creating\n",
      "Creating\n",
      "Creating\n",
      "Creating\n",
      "Creating\n",
      "Creating\n",
      "Creating\n",
      "Creating\n",
      "Creating\n",
      "Creating\n",
      "Creating\n",
      "Creating\n",
      "Creating\n",
      "Creating\n",
      "Creating\n",
      "Creating\n",
      "Creating\n",
      "Creating\n",
      "Creating\n",
      "Creating\n",
      "Creating\n",
      "Creating\n",
      "Creating\n",
      "Creating\n",
      "Creating\n",
      "Creating\n",
      "Creating\n",
      "Creating\n",
      "Creating\n",
      "Creating\n",
      "Creating\n",
      "Creating\n",
      "Creating\n",
      "Creating\n",
      "Creating\n",
      "Creating\n",
      "Creating\n",
      "Creating\n",
      "Creating\n",
      "Creating\n",
      "Creating\n",
      "Creating\n",
      "InService\n"
     ]
    }
   ],
   "source": [
    "while True:\n",
    "    desc = client.describe_inference_component(\n",
    "        InferenceComponentName=inference_component_name_flant5\n",
    "    )\n",
    "    status = desc[\"InferenceComponentStatus\"]\n",
    "    print(status)\n",
    "    sys.stdout.flush()\n",
    "    if status in [\"InService\", \"Failed\"]:\n",
    "        break\n",
    "    time.sleep(30)"
   ]
  },
  {
   "cell_type": "code",
   "execution_count": null,
   "id": "78d73ba5-7eb4-418b-942e-33deaba408f0",
   "metadata": {},
   "outputs": [],
   "source": []
  }
 ],
 "metadata": {
  "kernelspec": {
   "display_name": "Python 3 (ipykernel)",
   "language": "python",
   "name": "python3"
  },
  "language_info": {
   "codemirror_mode": {
    "name": "ipython",
    "version": 3
   },
   "file_extension": ".py",
   "mimetype": "text/x-python",
   "name": "python",
   "nbconvert_exporter": "python",
   "pygments_lexer": "ipython3",
   "version": "3.12.4"
  }
 },
 "nbformat": 4,
 "nbformat_minor": 5
}
