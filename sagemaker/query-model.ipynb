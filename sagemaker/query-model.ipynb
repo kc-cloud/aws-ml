{
 "cells": [
  {
   "cell_type": "code",
   "execution_count": 1,
   "id": "6610d6a0-86d9-4e16-995e-ee0f53a109aa",
   "metadata": {},
   "outputs": [
    {
     "name": "stdout",
     "output_type": "stream",
     "text": [
      "sagemaker.config INFO - Not applying SDK defaults from location: /Library/Application Support/sagemaker/config.yaml\n",
      "sagemaker.config INFO - Not applying SDK defaults from location: /Users/mac/Library/Application Support/sagemaker/config.yaml\n"
     ]
    }
   ],
   "source": [
    "import boto3\n",
    "import botocore\n",
    "import sagemaker\n",
    "from sagemaker import image_uris\n",
    "import sys\n",
    "import time\n",
    "from sagemaker.huggingface import HuggingFaceModel, get_huggingface_llm_image_uri\n",
    "from sagemaker.serializers import JSONSerializer\n",
    "from sagemaker.deserializers import JSONDeserializer\n",
    "from botocore.exceptions import NoCredentialsError\n",
    "from sagemaker.jumpstart.model import JumpStartModel\n",
    "import json\n",
    "\n",
    "session = sagemaker.Session()\n",
    "runtime = boto3.client(\"sagemaker-runtime\")\n",
    "client = boto3.client(\"sagemaker\")\n",
    "region = session.boto_region_name\n",
    "prefix='spectra-test'\n",
    "role = \"AmazonSageMaker-ExecutionRole-20240618T160945\"\n",
    "account_id = boto3.client('sts').get_caller_identity().get('Account')\n",
    "endpoint_name = f\"{prefix}-endpoint\"\n",
    "inference_component_name_flant5 = f\"{prefix}-test-IC-flan-xxl\""
   ]
  },
  {
   "cell_type": "code",
   "execution_count": 4,
   "id": "2b4630d0-550f-44f2-b2b8-1531fca37110",
   "metadata": {},
   "outputs": [
    {
     "ename": "ValueError",
     "evalue": "Invalid model ID: 'flan-t5-small'. Please visit https://sagemaker.readthedocs.io/en/stable/doc_utils/pretrainedmodels.html for a list of valid model IDs. The module `sagemaker.jumpstart.notebook_utils` contains utilities for fetching model IDs. We recommend upgrading to the latest version of sagemaker to get access to the most models.",
     "output_type": "error",
     "traceback": [
      "\u001b[0;31m---------------------------------------------------------------------------\u001b[0m",
      "\u001b[0;31mValueError\u001b[0m                                Traceback (most recent call last)",
      "Cell \u001b[0;32mIn[4], line 2\u001b[0m\n\u001b[1;32m      1\u001b[0m model_id \u001b[38;5;241m=\u001b[39m \u001b[38;5;124m\"\u001b[39m\u001b[38;5;124mflan-t5-small\u001b[39m\u001b[38;5;124m\"\u001b[39m\n\u001b[0;32m----> 2\u001b[0m model \u001b[38;5;241m=\u001b[39m \u001b[43mJumpStartModel\u001b[49m\u001b[43m(\u001b[49m\u001b[43mmodel_id\u001b[49m\u001b[38;5;241;43m=\u001b[39;49m\u001b[43mmodel_id\u001b[49m\u001b[43m,\u001b[49m\u001b[43m     \u001b[49m\n\u001b[1;32m      3\u001b[0m \u001b[43m                       \u001b[49m\u001b[43mregion\u001b[49m\u001b[38;5;241;43m=\u001b[39;49m\u001b[43mregion\u001b[49m\u001b[43m,\u001b[49m\n\u001b[1;32m      4\u001b[0m \u001b[43m                        \u001b[49m\u001b[43mrole\u001b[49m\u001b[38;5;241;43m=\u001b[39;49m\u001b[43mrole\u001b[49m\u001b[43m)\u001b[49m\n\u001b[1;32m      5\u001b[0m example_payloads \u001b[38;5;241m=\u001b[39m model\u001b[38;5;241m.\u001b[39mretrieve_all_examples()\n",
      "File \u001b[0;32m/usr/local/lib/python3.12/site-packages/sagemaker/jumpstart/model.py:313\u001b[0m, in \u001b[0;36mJumpStartModel.__init__\u001b[0;34m(self, model_id, model_version, hub_name, tolerate_vulnerable_model, tolerate_deprecated_model, region, instance_type, image_uri, model_data, role, predictor_cls, env, name, vpc_config, sagemaker_session, enable_network_isolation, model_kms_key, image_config, source_dir, code_location, entry_point, container_log_level, dependencies, git_config, model_package_arn, resources)\u001b[0m\n\u001b[1;32m    311\u001b[0m     \u001b[38;5;28mself\u001b[39m\u001b[38;5;241m.\u001b[39mmodel_type \u001b[38;5;241m=\u001b[39m _validate_model_id_and_type()\n\u001b[1;32m    312\u001b[0m     \u001b[38;5;28;01mif\u001b[39;00m \u001b[38;5;129;01mnot\u001b[39;00m \u001b[38;5;28mself\u001b[39m\u001b[38;5;241m.\u001b[39mmodel_type \u001b[38;5;129;01mand\u001b[39;00m \u001b[38;5;129;01mnot\u001b[39;00m hub_arn:\n\u001b[0;32m--> 313\u001b[0m         \u001b[38;5;28;01mraise\u001b[39;00m \u001b[38;5;167;01mValueError\u001b[39;00m(INVALID_MODEL_ID_ERROR_MSG\u001b[38;5;241m.\u001b[39mformat(model_id\u001b[38;5;241m=\u001b[39mmodel_id))\n\u001b[1;32m    315\u001b[0m \u001b[38;5;28mself\u001b[39m\u001b[38;5;241m.\u001b[39m_model_data_is_set \u001b[38;5;241m=\u001b[39m model_data \u001b[38;5;129;01mis\u001b[39;00m \u001b[38;5;129;01mnot\u001b[39;00m \u001b[38;5;28;01mNone\u001b[39;00m\n\u001b[1;32m    316\u001b[0m model_init_kwargs \u001b[38;5;241m=\u001b[39m get_init_kwargs(\n\u001b[1;32m    317\u001b[0m     model_id\u001b[38;5;241m=\u001b[39mmodel_id,\n\u001b[1;32m    318\u001b[0m     model_from_estimator\u001b[38;5;241m=\u001b[39m\u001b[38;5;28;01mFalse\u001b[39;00m,\n\u001b[0;32m   (...)\u001b[0m\n\u001b[1;32m    344\u001b[0m     resources\u001b[38;5;241m=\u001b[39mresources,\n\u001b[1;32m    345\u001b[0m )\n",
      "\u001b[0;31mValueError\u001b[0m: Invalid model ID: 'flan-t5-small'. Please visit https://sagemaker.readthedocs.io/en/stable/doc_utils/pretrainedmodels.html for a list of valid model IDs. The module `sagemaker.jumpstart.notebook_utils` contains utilities for fetching model IDs. We recommend upgrading to the latest version of sagemaker to get access to the most models."
     ]
    }
   ],
   "source": [
    "model_id = \"flan-t5-small\"\n",
    "model = JumpStartModel(model_id=model_id,     \n",
    "                       region=region,\n",
    "                        role=role)\n",
    "example_payloads = model.retrieve_all_examples()"
   ]
  },
  {
   "cell_type": "code",
   "execution_count": null,
   "id": "2c9f9984-fe7e-4087-b0b5-b296b3fbd250",
   "metadata": {},
   "outputs": [],
   "source": [
    "payload = '''Summarize the following text:\n",
    "Peter and Elizabeth took a taxi to attend the night party in the city. While in the party, Elizabeth collapsed and was rushed to the hospital.\n",
    "Since she was diagnosed with a brain injury, the doctor told Peter to stay besides her until she gets well.\n",
    "Therefore, Peter stayed with her at the hospital for 3 days without leaving.'''\n",
    "\n",
    "\n",
    "response = sagemaker_runtime_client.invoke_endpoint(\n",
    "    EndpointName=endpoint_name,\n",
    "    InferenceComponentName=inference_component_name_flant5,\n",
    "    ContentType=\"application/json\",\n",
    "    Accept=\"application/json\",\n",
    "    Body=json.dumps(\n",
    "        {\n",
    "            \"inputs\": payload,\n",
    "            \"parameters\": {\n",
    "                \"early_stopping\": True,\n",
    "                \"length_penalty\": 2.0,\n",
    "                \"max_new_tokens\": 50,\n",
    "                \"temperature\": 1,\n",
    "                \"min_length\": 10,\n",
    "                \"no_repeat_ngram_size\": 3,\n",
    "                },\n",
    "        }\n",
    "    ),\n",
    ")\n",
    "result = json.loads(response[\"Body\"].read().decode())\n",
    "result"
   ]
  }
 ],
 "metadata": {
  "kernelspec": {
   "display_name": "Python 3 (ipykernel)",
   "language": "python",
   "name": "python3"
  },
  "language_info": {
   "codemirror_mode": {
    "name": "ipython",
    "version": 3
   },
   "file_extension": ".py",
   "mimetype": "text/x-python",
   "name": "python",
   "nbconvert_exporter": "python",
   "pygments_lexer": "ipython3",
   "version": "3.12.4"
  }
 },
 "nbformat": 4,
 "nbformat_minor": 5
}
