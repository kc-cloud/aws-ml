{
 "cells": [
  {
   "cell_type": "code",
   "execution_count": 74,
   "id": "c1a36d1f-4093-4d52-8491-f3ad524971a0",
   "metadata": {},
   "outputs": [
    {
     "data": {
      "text/plain": [
       "'1.34.136'"
      ]
     },
     "metadata": {},
     "output_type": "display_data"
    }
   ],
   "source": [
    "import boto3\n",
    "import json\n",
    "import sagemaker\n",
    "from sagemaker.jumpstart.model import JumpStartModel\n",
    "import time\n",
    "\n",
    "sagemaker_session = sagemaker.Session()\n",
    "region = sagemaker_session.boto_region_name\n",
    "sagemaker_role = \"AmazonSageMaker-ExecutionRole-20240618T160945\"\n",
    "sagemaker_runtime = boto3.client(\"sagemaker-runtime\", region_name='us-east-1')\n",
    "endpoint_name='spectra-test1'\n",
    "display(boto3.__version__)\n"
   ]
  },
  {
   "cell_type": "code",
   "execution_count": 75,
   "id": "e9aeba99-1cf4-4801-ac3e-f157a9781827",
   "metadata": {},
   "outputs": [
    {
     "data": {
      "text/plain": [
       "[JumpStartSerializablePayload at 0x105199f30: {'content_type': 'application/json', 'accept': 'application/json', 'body': {'inputs': 'Girafatron is obsessed with giraffes, the most glorious animal on the face of this Earth. Giraftron believes all other animals are irrelevant when compared to the glorious majesty of the giraffe.\\nDaniel: Hello, Girafatron!\\nGirafatron:', 'parameters': {'max_new_tokens': 50, 'return_full_text': False, 'do_sample': True, 'top_k': 10, 'stop': ['Daniel:'], 'decoder_input_details': True, 'details': True}}},\n",
       " JumpStartSerializablePayload at 0x11ece3ab0: {'content_type': 'application/json', 'accept': 'application/json', 'body': {'inputs': 'Write a program to compute factorial in python:', 'parameters': {'max_new_tokens': 200, 'decoder_input_details': True, 'details': True}}},\n",
       " JumpStartSerializablePayload at 0x11ece3920: {'content_type': 'application/json', 'accept': 'application/json', 'body': {'inputs': 'Building a website can be done in 10 simple steps:', 'parameters': {'max_new_tokens': 256, 'decoder_input_details': True, 'details': True}}},\n",
       " JumpStartSerializablePayload at 0x11ece3b50: {'content_type': 'application/json', 'accept': 'application/json', 'body': {'inputs': 'Translate English to French:\\n\\nsea otter => loutre de mer\\n\\npeppermint => menthe poivrée\\n\\nplush girafe => girafe peluche\\n\\ncheese =>', 'parameters': {'max_new_tokens': 3, 'decoder_input_details': True, 'details': True}}},\n",
       " JumpStartSerializablePayload at 0x11ece3a60: {'content_type': 'application/json', 'accept': 'application/json', 'body': {'inputs': '\"I hate it when my phone battery dies.\"\\nSentiment: Negative\\n###\\nTweet: \"My day has been :+1:\"\\nSentiment: Positive\\n###\\nTweet: \"This is the link to the article\"\\nSentiment: Neutral\\n###\\nTweet: \"This new music video was incredibile\"\\nSentiment:', 'parameters': {'max_new_tokens': 2, 'decoder_input_details': True, 'details': True}}},\n",
       " JumpStartSerializablePayload at 0x11ece39c0: {'content_type': 'application/json', 'accept': 'application/json', 'body': {'inputs': 'Could you remind me when was the C programming language invented?', 'parameters': {'max_new_tokens': 50, 'decoder_input_details': True, 'details': True}}},\n",
       " JumpStartSerializablePayload at 0x11ece3b00: {'content_type': 'application/json', 'accept': 'application/json', 'body': {'inputs': 'What is the recipe for a delicious lemon cheesecake?', 'parameters': {'max_new_tokens': 256, 'decoder_input_details': True, 'details': True}}},\n",
       " JumpStartSerializablePayload at 0x11ece3970: {'content_type': 'application/json', 'accept': 'application/json', 'body': {'inputs': \"Starting today, the state-of-the-art Falcon 40B foundation model from Technology\\nInnovation Institute (TII) is available on Amazon SageMaker JumpStart, SageMaker's machine learning (ML) hub\\nthat offers pre-trained models, built-in algorithms, and pre-built solution templates to help you quickly get\\nstarted with ML. You can deploy and use this Falcon LLM with a few clicks in SageMaker Studio or\\nprogrammatically through the SageMaker Python SDK.\\nFalcon 40B is a 40-billion-parameter large language model (LLM) available under the Apache 2.0 license that\\nranked #1 in Hugging Face Open LLM leaderboard, which tracks, ranks, and evaluates LLMs across multiple\\nbenchmarks to identify top performing models. Since its release in May 2023, Falcon 40B has demonstrated\\nexceptional performance without specialized fine-tuning. To make it easier for customers to access this\\nstate-of-the-art model, AWS has made Falcon 40B available to customers via Amazon SageMaker JumpStart.\\nNow customers can quickly and easily deploy their own Falcon 40B model and customize it to fit their specific\\nneeds for applications such as translation, question answering, and summarizing information.\\nFalcon 40B are generally available today through Amazon SageMaker JumpStart in US East (Ohio),\\nUS East (N. Virginia), US West (Oregon), Asia Pacific (Tokyo), Asia Pacific (Seoul), Asia Pacific (Mumbai),\\nEurope (London), Europe (Frankfurt), Europe (Ireland), and Canada (Central),\\nwith availability in additional AWS Regions coming soon. To learn how to use this new feature,\\nplease see SageMaker JumpStart documentation, the Introduction to SageMaker JumpStart –\\nText Generation with Falcon LLMs example notebook, and the blog Technology Innovation Institute trains\\nthe state-of-the-art Falcon LLM 40B foundation model on Amazon SageMaker. Summarize the article above:\", 'parameters': {'max_new_tokens': 256, 'decoder_input_details': True, 'details': True}}}]"
      ]
     },
     "execution_count": 75,
     "metadata": {},
     "output_type": "execute_result"
    }
   ],
   "source": [
    "model_id = \"huggingface-llm-mistral-7b\"\n",
    "model = JumpStartModel(model_id=model_id,     \n",
    "                       region=region,\n",
    "                        role=sagemaker_role)\n",
    "example_payloads = model.retrieve_all_examples()\n",
    "example_payloads"
   ]
  },
  {
   "cell_type": "code",
   "execution_count": 76,
   "id": "f0e8b8c1-e165-47ce-9c49-c3b8dc8bb796",
   "metadata": {},
   "outputs": [],
   "source": [
    "question = \"what is owasp?\"\n",
    "\n",
    "input_data = {\n",
    "    'inputs': f\"{question}\"\n",
    "            }\n",
    "    "
   ]
  },
  {
   "cell_type": "code",
   "execution_count": 77,
   "id": "0c95bb04-4618-4a28-9d93-30fdf5c33105",
   "metadata": {},
   "outputs": [
    {
     "ename": "ValidationError",
     "evalue": "An error occurred (ValidationError) when calling the InvokeEndpoint operation: Inference Component Name header is required for endpoints to which you plan to deploy inference components. Please include Inference Component Name header or consider using SageMaker models.",
     "output_type": "error",
     "traceback": [
      "\u001b[0;31m---------------------------------------------------------------------------\u001b[0m",
      "\u001b[0;31mValidationError\u001b[0m                           Traceback (most recent call last)",
      "Cell \u001b[0;32mIn[77], line 5\u001b[0m\n\u001b[1;32m      1\u001b[0m body \u001b[38;5;241m=\u001b[39m json\u001b[38;5;241m.\u001b[39mdumps(input_data)\n\u001b[0;32m----> 5\u001b[0m response \u001b[38;5;241m=\u001b[39m \u001b[43msagemaker_runtime\u001b[49m\u001b[38;5;241;43m.\u001b[39;49m\u001b[43minvoke_endpoint\u001b[49m\u001b[43m(\u001b[49m\n\u001b[1;32m      6\u001b[0m \u001b[43m    \u001b[49m\u001b[43mEndpointName\u001b[49m\u001b[38;5;241;43m=\u001b[39;49m\u001b[43mendpoint_name\u001b[49m\u001b[43m,\u001b[49m\n\u001b[1;32m      7\u001b[0m \u001b[43m    \u001b[49m\u001b[43mContentType\u001b[49m\u001b[38;5;241;43m=\u001b[39;49m\u001b[38;5;124;43m'\u001b[39;49m\u001b[38;5;124;43mapplication/json\u001b[39;49m\u001b[38;5;124;43m'\u001b[39;49m\u001b[43m,\u001b[49m\n\u001b[1;32m      8\u001b[0m \u001b[43m    \u001b[49m\u001b[43mAccept\u001b[49m\u001b[38;5;241;43m=\u001b[39;49m\u001b[38;5;124;43m'\u001b[39;49m\u001b[38;5;124;43mapplication/json\u001b[39;49m\u001b[38;5;124;43m'\u001b[39;49m\u001b[43m,\u001b[49m\n\u001b[1;32m      9\u001b[0m \u001b[43m    \u001b[49m\u001b[43mBody\u001b[49m\u001b[38;5;241;43m=\u001b[39;49m\u001b[43mbody\u001b[49m\n\u001b[1;32m     10\u001b[0m \u001b[43m)\u001b[49m\n\u001b[1;32m     12\u001b[0m result \u001b[38;5;241m=\u001b[39m json\u001b[38;5;241m.\u001b[39mloads(response[\u001b[38;5;124m'\u001b[39m\u001b[38;5;124mBody\u001b[39m\u001b[38;5;124m'\u001b[39m]\u001b[38;5;241m.\u001b[39mread()\u001b[38;5;241m.\u001b[39mdecode())\n",
      "File \u001b[0;32m/usr/local/lib/python3.10/site-packages/botocore/client.py:565\u001b[0m, in \u001b[0;36mClientCreator._create_api_method.<locals>._api_call\u001b[0;34m(self, *args, **kwargs)\u001b[0m\n\u001b[1;32m    561\u001b[0m     \u001b[38;5;28;01mraise\u001b[39;00m \u001b[38;5;167;01mTypeError\u001b[39;00m(\n\u001b[1;32m    562\u001b[0m         \u001b[38;5;124mf\u001b[39m\u001b[38;5;124m\"\u001b[39m\u001b[38;5;132;01m{\u001b[39;00mpy_operation_name\u001b[38;5;132;01m}\u001b[39;00m\u001b[38;5;124m() only accepts keyword arguments.\u001b[39m\u001b[38;5;124m\"\u001b[39m\n\u001b[1;32m    563\u001b[0m     )\n\u001b[1;32m    564\u001b[0m \u001b[38;5;66;03m# The \"self\" in this scope is referring to the BaseClient.\u001b[39;00m\n\u001b[0;32m--> 565\u001b[0m \u001b[38;5;28;01mreturn\u001b[39;00m \u001b[38;5;28;43mself\u001b[39;49m\u001b[38;5;241;43m.\u001b[39;49m\u001b[43m_make_api_call\u001b[49m\u001b[43m(\u001b[49m\u001b[43moperation_name\u001b[49m\u001b[43m,\u001b[49m\u001b[43m \u001b[49m\u001b[43mkwargs\u001b[49m\u001b[43m)\u001b[49m\n",
      "File \u001b[0;32m/usr/local/lib/python3.10/site-packages/botocore/client.py:1021\u001b[0m, in \u001b[0;36mBaseClient._make_api_call\u001b[0;34m(self, operation_name, api_params)\u001b[0m\n\u001b[1;32m   1017\u001b[0m     error_code \u001b[38;5;241m=\u001b[39m error_info\u001b[38;5;241m.\u001b[39mget(\u001b[38;5;124m\"\u001b[39m\u001b[38;5;124mQueryErrorCode\u001b[39m\u001b[38;5;124m\"\u001b[39m) \u001b[38;5;129;01mor\u001b[39;00m error_info\u001b[38;5;241m.\u001b[39mget(\n\u001b[1;32m   1018\u001b[0m         \u001b[38;5;124m\"\u001b[39m\u001b[38;5;124mCode\u001b[39m\u001b[38;5;124m\"\u001b[39m\n\u001b[1;32m   1019\u001b[0m     )\n\u001b[1;32m   1020\u001b[0m     error_class \u001b[38;5;241m=\u001b[39m \u001b[38;5;28mself\u001b[39m\u001b[38;5;241m.\u001b[39mexceptions\u001b[38;5;241m.\u001b[39mfrom_code(error_code)\n\u001b[0;32m-> 1021\u001b[0m     \u001b[38;5;28;01mraise\u001b[39;00m error_class(parsed_response, operation_name)\n\u001b[1;32m   1022\u001b[0m \u001b[38;5;28;01melse\u001b[39;00m:\n\u001b[1;32m   1023\u001b[0m     \u001b[38;5;28;01mreturn\u001b[39;00m parsed_response\n",
      "\u001b[0;31mValidationError\u001b[0m: An error occurred (ValidationError) when calling the InvokeEndpoint operation: Inference Component Name header is required for endpoints to which you plan to deploy inference components. Please include Inference Component Name header or consider using SageMaker models."
     ]
    }
   ],
   "source": [
    "body = json.dumps(input_data)\n",
    "\n",
    "\n",
    "\n",
    "response = sagemaker_runtime.invoke_endpoint(\n",
    "    EndpointName=endpoint_name,\n",
    "    ContentType='application/json',\n",
    "    Accept='application/json',\n",
    "    Body=body\n",
    ")\n",
    "\n",
    "result = json.loads(response['Body'].read().decode())"
   ]
  },
  {
   "cell_type": "code",
   "execution_count": 65,
   "id": "04c2fc5f-04ff-4059-8788-c12e24cfb9e1",
   "metadata": {},
   "outputs": [
    {
     "data": {
      "text/plain": [
       "'Hogamew and Lindbergha Ice'"
      ]
     },
     "execution_count": 65,
     "metadata": {},
     "output_type": "execute_result"
    }
   ],
   "source": [
    "result[0]['generated_text']"
   ]
  },
  {
   "cell_type": "code",
   "execution_count": null,
   "id": "9e6ea813-2991-4b39-922e-b656f8014844",
   "metadata": {},
   "outputs": [],
   "source": []
  }
 ],
 "metadata": {
  "kernelspec": {
   "display_name": "Python 3 (ipykernel)",
   "language": "python",
   "name": "python3"
  },
  "language_info": {
   "codemirror_mode": {
    "name": "ipython",
    "version": 3
   },
   "file_extension": ".py",
   "mimetype": "text/x-python",
   "name": "python",
   "nbconvert_exporter": "python",
   "pygments_lexer": "ipython3",
   "version": "3.10.13"
  }
 },
 "nbformat": 4,
 "nbformat_minor": 5
}
